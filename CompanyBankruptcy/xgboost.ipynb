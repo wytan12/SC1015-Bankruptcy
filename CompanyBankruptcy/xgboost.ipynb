{
 "cells": [
  {
   "cell_type": "markdown",
   "id": "d63f58e0",
   "metadata": {},
   "source": [
    "# XGBoost Model\n",
    "\n",
    "#### What is XGBoost?\n",
    "\n",
    "XGBoost (Extreme Gradient Boosting) is a popular gradient boosting framework that is designed to optimize performance and speed in tree ensemble learning algorithms. It uses a combination of gradient boosting and regularization techniques to prevent overfitting and improve model accuracy. XGBoost has become a popular choice for machine learning competitions and is widely used in industry for its performance and scalability."
   ]
  },
  {
   "cell_type": "code",
   "execution_count": 1,
   "id": "33b9eaa1",
   "metadata": {},
   "outputs": [],
   "source": [
    "import pandas as pd\n",
    "import numpy as np\n",
    "import matplotlib.pyplot as plt\n",
    "from xgboost import XGBClassifier\n",
    "from sklearn.model_selection import train_test_split\n",
    "from sklearn.metrics import mean_absolute_error\n",
    "from sklearn.metrics import mean_squared_error\n",
    "from sklearn.metrics import accuracy_score\n",
    "import seaborn as sns\n",
    "from sklearn.metrics import confusion_matrix\n",
    "from sklearn.metrics import f1_score"
   ]
  },
  {
   "cell_type": "markdown",
   "id": "111b2daf",
   "metadata": {},
   "source": [
    "## Functions to calculate TPR and FPR"
   ]
  },
  {
   "cell_type": "code",
   "execution_count": 2,
   "id": "76172d66",
   "metadata": {},
   "outputs": [],
   "source": [
    "def get_TPR(actual, prediction):\n",
    "    TP = confusion_matrix(actual, prediction)[1][1]\n",
    "    FN = confusion_matrix(actual, prediction)[1][0]\n",
    "    TPR = (TP/(TP+FN))\n",
    "    \n",
    "    return TPR\n",
    "    \n",
    "def get_FPR(actual, prediction):\n",
    "    FP = confusion_matrix(actual, prediction)[0][1]\n",
    "    TN = confusion_matrix(actual, prediction)[0][0]\n",
    "    FPR = (FP/(FP+TN))\n",
    "    \n",
    "    return FPR"
   ]
  },
  {
   "cell_type": "code",
   "execution_count": 3,
   "id": "5e180efd",
   "metadata": {},
   "outputs": [
    {
     "data": {
      "text/plain": [
       "Index(['Unnamed: 0', ' Debt ratio %', ' Borrowing dependency',\n",
       "       ' Liability to Equity', ' Net Income to Stockholder's Equity',\n",
       "       ' Persistent EPS in the Last Four Seasons',\n",
       "       ' ROA(C) before interest and depreciation before interest',\n",
       "       ' Net worth/Assets',\n",
       "       ' ROA(B) before interest and depreciation after tax',\n",
       "       ' ROA(A) before interest and % after tax',\n",
       "       ' Net Income to Total Assets', 'Bankrupt?'],\n",
       "      dtype='object')"
      ]
     },
     "execution_count": 3,
     "metadata": {},
     "output_type": "execute_result"
    }
   ],
   "source": [
    "data = pd.read_csv('SMData.csv')\n",
    "df = data\n",
    "data.columns"
   ]
  },
  {
   "cell_type": "code",
   "execution_count": 4,
   "id": "191a99c9",
   "metadata": {},
   "outputs": [],
   "source": [
    "y = pd.DataFrame(data['Bankrupt?'])\n",
    "x = df.drop(['Bankrupt?'], axis = 1)\n",
    "\n",
    "x_train, x_test, y_train, y_test = train_test_split(x,y,test_size=0.2,random_state=12345)"
   ]
  },
  {
   "cell_type": "code",
   "execution_count": 5,
   "id": "cedf74a0",
   "metadata": {},
   "outputs": [],
   "source": [
    "XGBModel = XGBClassifier()\n",
    "XGBModel.fit(x_train, y_train)\n",
    "\n",
    "y_pred = XGBModel.predict(x_test)"
   ]
  },
  {
   "cell_type": "code",
   "execution_count": 6,
   "id": "e7bd1b5a",
   "metadata": {},
   "outputs": [
    {
     "name": "stdout",
     "output_type": "stream",
     "text": [
      "XGBoost Classifier Confusion Matrix\n",
      "Classification Accuracy:  0.981439393939394\n",
      "TPR:  0.9717682020802377\n",
      "FPR:  0.008500772797527048\n"
     ]
    },
    {
     "data": {
      "image/png": "[encoded data removed]",
      "text/plain": [
       "<Figure size 640x480 with 2 Axes>"
      ]
     },
     "metadata": {},
     "output_type": "display_data"
    }
   ],
   "source": [
    "print(\"XGBoost Classifier Confusion Matrix\")\n",
    "sns.heatmap(confusion_matrix(y_test, y_pred), \n",
    "           annot=True, fmt='.0f', annot_kws={\"size\":18})\n",
    "\n",
    "print(\"Classification Accuracy: \", XGBModel.score(x_test, y_test))\n",
    "print('TPR: ', get_TPR(y_test, y_pred))\n",
    "print('FPR: ', get_FPR(y_test, y_pred))"
   ]
  },
  {
   "cell_type": "code",
   "execution_count": 7,
   "id": "63c5350c",
   "metadata": {},
   "outputs": [
    {
     "name": "stdout",
     "output_type": "stream",
     "text": [
      "XGBoost TEST F1 Score: 0.9816135084427767\n"
     ]
    }
   ],
   "source": [
    "print('XGBoost TEST F1 Score: {}'.format(f1_score(y_test,y_pred)))"
   ]
  }
 ],
 "metadata": {
  "kernelspec": {
   "display_name": "Python 3 (ipykernel)",
   "language": "python",
   "name": "python3"
  },
  "language_info": {
   "codemirror_mode": {
    "name": "ipython",
    "version": 3
   },
   "file_extension": ".py",
   "mimetype": "text/x-python",
   "name": "python",
   "nbconvert_exporter": "python",
   "pygments_lexer": "ipython3",
   "version": "3.9.13"
  }
 },
 "nbformat": 4,
 "nbformat_minor": 5
}
