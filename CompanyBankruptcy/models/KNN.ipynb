{
 "cells": [
  {
   "cell_type": "markdown",
   "id": "83ed634b",
   "metadata": {},
   "source": [
    "## K-Nearest Neighbors\n",
    "#### What is K-NN?\n",
    "K-NN is a type of classification where the function is only approximated locally and all computation is deferred until function evaluation. Since this algorithm relies on distance for classification, if the features represent different physical units or come in vastly different scales then normalizing the training data can improve its accuracy dramatically."
   ]
  },
  {
   "cell_type": "code",
   "execution_count": 1,
   "id": "155f4b74",
   "metadata": {},
   "outputs": [],
   "source": [
    "from sklearn.model_selection import train_test_split\n",
    "from sklearn.neighbors import KNeighborsClassifier\n",
    "from sklearn.metrics import classification_report, confusion_matrix\n",
    "from sklearn.metrics import f1_score\n",
    "import matplotlib.pyplot as plt\n",
    "import seaborn as sns\n",
    "import pandas as pd\n",
    "import numpy as np"
   ]
  },
  {
   "cell_type": "markdown",
   "id": "6da12c2b",
   "metadata": {},
   "source": [
    "#### Functions to calculate TPR and FPR"
   ]
  },
  {
   "cell_type": "code",
   "execution_count": 2,
   "id": "cd24ea5b",
   "metadata": {},
   "outputs": [],
   "source": [
    "def get_TPR(actual, prediction):\n",
    "    TP = confusion_matrix(actual, prediction)[1][1]\n",
    "    FN = confusion_matrix(actual, prediction)[1][0]\n",
    "    TPR = (TP/(TP+FN))\n",
    "    \n",
    "    return TPR\n",
    "    \n",
    "def get_FPR(actual, prediction):\n",
    "    FP = confusion_matrix(actual, prediction)[0][1]\n",
    "    TN = confusion_matrix(actual, prediction)[0][0]\n",
    "    FPR = (FP/(FP+TN))\n",
    "    \n",
    "    return FPR"
   ]
  },
  {
   "cell_type": "code",
   "execution_count": 8,
   "id": "ea094c2e",
   "metadata": {},
   "outputs": [
    {
     "name": "stdout",
     "output_type": "stream",
     "text": [
      "<class 'pandas.core.frame.DataFrame'>\n",
      "RangeIndex: 13198 entries, 0 to 13197\n",
      "Data columns (total 11 columns):\n",
      " #   Column                                                    Non-Null Count  Dtype  \n",
      "---  ------                                                    --------------  -----  \n",
      " 0    Debt ratio %                                             13198 non-null  float64\n",
      " 1    Borrowing dependency                                     13198 non-null  float64\n",
      " 2    Liability to Equity                                      13198 non-null  float64\n",
      " 3    Net Income to Stockholder's Equity                       13198 non-null  float64\n",
      " 4    Persistent EPS in the Last Four Seasons                  13198 non-null  float64\n",
      " 5    ROA(C) before interest and depreciation before interest  13198 non-null  float64\n",
      " 6    Net worth/Assets                                         13198 non-null  float64\n",
      " 7    ROA(B) before interest and depreciation after tax        13198 non-null  float64\n",
      " 8    ROA(A) before interest and % after tax                   13198 non-null  float64\n",
      " 9    Net Income to Total Assets                               13198 non-null  float64\n",
      " 10  Bankrupt?                                                 13198 non-null  int64  \n",
      "dtypes: float64(10), int64(1)\n",
      "memory usage: 1.1 MB\n"
     ]
    }
   ],
   "source": [
    "SMdata = pd.read_csv('SMData.csv')\n",
    "SMdata = SMdata.drop(columns = ['Unnamed: 0'])\n",
    "SMdata.info()"
   ]
  },
  {
   "cell_type": "code",
   "execution_count": 9,
   "id": "ab3e871b",
   "metadata": {},
   "outputs": [],
   "source": [
    "x = SMdata.drop(columns = [\"Bankrupt?\"])\n",
    "y = pd.DataFrame(SMdata[\"Bankrupt?\"])\n",
    "x_train, x_test, y_train, y_test = train_test_split(x, y, test_size=0.3, random_state=2023)"
   ]
  },
  {
   "cell_type": "code",
   "execution_count": 10,
   "id": "93125301",
   "metadata": {},
   "outputs": [],
   "source": [
    "classifier = KNeighborsClassifier(n_neighbors=5, metric='minkowski')\n",
    "classifier.fit(x_train, y_train.values.ravel())\n",
    "\n",
    "y_pred = classifier.predict(x_test)"
   ]
  },
  {
   "cell_type": "markdown",
   "id": "3552dc64",
   "metadata": {},
   "source": [
    "#### Confusion Matrix"
   ]
  },
  {
   "cell_type": "code",
   "execution_count": 11,
   "id": "e795aa2a",
   "metadata": {},
   "outputs": [
    {
     "name": "stdout",
     "output_type": "stream",
     "text": [
      "KNN Classifier Confusion Matrix\n",
      "Classification Accuracy:  0.9252525252525252\n",
      "TPR:  0.9811320754716981\n",
      "FPR:  0.1295647823911956\n"
     ]
    },
    {
     "data": {
      "image/png": "[encoded data removed]",
      "text/plain": [
       "<Figure size 640x480 with 2 Axes>"
      ]
     },
     "metadata": {},
     "output_type": "display_data"
    }
   ],
   "source": [
    "print(\"KNN Classifier Confusion Matrix\")\n",
    "sns.heatmap(confusion_matrix(y_test, y_pred), \n",
    "           annot=True, fmt='.0f', annot_kws={\"size\":18})\n",
    "\n",
    "print(\"Classification Accuracy: \", classifier.score(x_test, y_test))\n",
    "print('TPR: ', get_TPR(y_test, y_pred))\n",
    "print('FPR: ', get_FPR(y_test, y_pred))"
   ]
  },
  {
   "cell_type": "markdown",
   "id": "df9344c1",
   "metadata": {},
   "source": [
    "#### F1 Score"
   ]
  },
  {
   "cell_type": "code",
   "execution_count": 12,
   "id": "64fe6e73",
   "metadata": {},
   "outputs": [
    {
     "name": "stdout",
     "output_type": "stream",
     "text": [
      "KNN TEST F1 Score: 0.9285714285714285\n"
     ]
    }
   ],
   "source": [
    "print('KNN TEST F1 Score: {}'.format(f1_score(y_test,y_pred)))"
   ]
  }
 ],
 "metadata": {
  "kernelspec": {
   "display_name": "Python 3 (ipykernel)",
   "language": "python",
   "name": "python3"
  },
  "language_info": {
   "codemirror_mode": {
    "name": "ipython",
    "version": 3
   },
   "file_extension": ".py",
   "mimetype": "text/x-python",
   "name": "python",
   "nbconvert_exporter": "python",
   "pygments_lexer": "ipython3",
   "version": "3.9.13"
  }
 },
 "nbformat": 4,
 "nbformat_minor": 5
}
