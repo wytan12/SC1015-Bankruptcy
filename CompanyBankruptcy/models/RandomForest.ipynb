{
 "cells": [
  {
   "cell_type": "markdown",
   "id": "3c483b74",
   "metadata": {},
   "source": [
    "## Random Forest Classification\n",
    "#### What is Random Forest?\n",
    "Random forests is an ensemble learning method for classification, regression and other tasks that operates by constructing a multitude of decision trees at training time. For classification tasks, the output of the random forest is the class selected by most trees. For regression tasks, the mean or average prediction of the individual trees is returned.Random decision forests correct for decision trees' habit of overfitting to their training set.Random forests generally outperform decision trees, but their accuracy is lower than gradient boosted trees. However, data characteristics can affect their performance."
   ]
  },
  {
   "cell_type": "code",
   "execution_count": 2,
   "id": "16bad057",
   "metadata": {},
   "outputs": [],
   "source": [
    "from sklearn.model_selection import train_test_split\n",
    "from sklearn.ensemble import RandomForestClassifier\n",
    "from sklearn.metrics import classification_report, confusion_matrix\n",
    "from sklearn.metrics import f1_score\n",
    "import matplotlib.pyplot as plt\n",
    "import seaborn as sns\n",
    "import pandas as pd\n",
    "import numpy as np"
   ]
  },
  {
   "cell_type": "markdown",
   "id": "ead02dc5",
   "metadata": {},
   "source": [
    "#### Functions to calculate TPR and FPR"
   ]
  },
  {
   "cell_type": "code",
   "execution_count": 3,
   "id": "a05a60c8",
   "metadata": {},
   "outputs": [],
   "source": [
    "def get_TPR(actual, prediction):\n",
    "    TP = confusion_matrix(actual, prediction)[1][1]\n",
    "    FN = confusion_matrix(actual, prediction)[1][0]\n",
    "    TPR = (TP/(TP+FN))\n",
    "    \n",
    "    return TPR\n",
    "    \n",
    "def get_FPR(actual, prediction):\n",
    "    FP = confusion_matrix(actual, prediction)[0][1]\n",
    "    TN = confusion_matrix(actual, prediction)[0][0]\n",
    "    FPR = (FP/(FP+TN))\n",
    "    \n",
    "    return FPR"
   ]
  },
  {
   "cell_type": "code",
   "execution_count": 4,
   "id": "08097df7",
   "metadata": {},
   "outputs": [
    {
     "name": "stdout",
     "output_type": "stream",
     "text": [
      "<class 'pandas.core.frame.DataFrame'>\n",
      "RangeIndex: 13198 entries, 0 to 13197\n",
      "Data columns (total 11 columns):\n",
      " #   Column                                                    Non-Null Count  Dtype  \n",
      "---  ------                                                    --------------  -----  \n",
      " 0    Debt ratio %                                             13198 non-null  float64\n",
      " 1    Borrowing dependency                                     13198 non-null  float64\n",
      " 2    Liability to Equity                                      13198 non-null  float64\n",
      " 3    Net Income to Stockholder's Equity                       13198 non-null  float64\n",
      " 4    Persistent EPS in the Last Four Seasons                  13198 non-null  float64\n",
      " 5    ROA(C) before interest and depreciation before interest  13198 non-null  float64\n",
      " 6    Net worth/Assets                                         13198 non-null  float64\n",
      " 7    ROA(B) before interest and depreciation after tax        13198 non-null  float64\n",
      " 8    ROA(A) before interest and % after tax                   13198 non-null  float64\n",
      " 9    Net Income to Total Assets                               13198 non-null  float64\n",
      " 10  Bankrupt?                                                 13198 non-null  int64  \n",
      "dtypes: float64(10), int64(1)\n",
      "memory usage: 1.1 MB\n"
     ]
    }
   ],
   "source": [
    "SMdata = pd.read_csv('SMData.csv')\n",
    "SMdata = SMdata.drop(columns = ['Unnamed: 0'])\n",
    "SMdata.info()"
   ]
  },
  {
   "cell_type": "code",
   "execution_count": 5,
   "id": "ecd5381c",
   "metadata": {},
   "outputs": [],
   "source": [
    "x = SMdata.drop(columns = [\"Bankrupt?\"])\n",
    "y = pd.DataFrame(SMdata[\"Bankrupt?\"])\n",
    "x_train, x_test, y_train, y_test = train_test_split(x, y, test_size=0.3, random_state=2023)"
   ]
  },
  {
   "cell_type": "code",
   "execution_count": 6,
   "id": "559d0d89",
   "metadata": {},
   "outputs": [],
   "source": [
    "RFclf = RandomForestClassifier(n_estimators = 100)  \n",
    "RFclf.fit(x_train, y_train.values.ravel())\n",
    "\n",
    "y_pred = RFclf.predict(x_test)"
   ]
  },
  {
   "cell_type": "markdown",
   "id": "b9d72494",
   "metadata": {},
   "source": [
    "#### Confusion Matrix"
   ]
  },
  {
   "cell_type": "code",
   "execution_count": 7,
   "id": "15f6194c",
   "metadata": {},
   "outputs": [
    {
     "name": "stdout",
     "output_type": "stream",
     "text": [
      "Random Forest Classifier Confusion Matrix\n",
      "Classification Accuracy:  0.9512626262626263\n",
      "TPR:  0.971443141254462\n",
      "FPR:  0.06853426713356678\n"
     ]
    },
    {
     "data": {
      "image/png": "[encoded data removed]",
      "text/plain": [
       "<Figure size 640x480 with 2 Axes>"
      ]
     },
     "metadata": {},
     "output_type": "display_data"
    }
   ],
   "source": [
    "print(\"Random Forest Classifier Confusion Matrix\")\n",
    "sns.heatmap(confusion_matrix(y_test, y_pred), \n",
    "           annot=True, fmt='.0f', annot_kws={\"size\":18})\n",
    "\n",
    "print(\"Classification Accuracy: \", RFclf.score(x_test, y_test))\n",
    "print('TPR: ', get_TPR(y_test, y_pred))\n",
    "print('FPR: ', get_FPR(y_test, y_pred))"
   ]
  },
  {
   "cell_type": "markdown",
   "id": "1586f511",
   "metadata": {},
   "source": [
    "#### F1 Score"
   ]
  },
  {
   "cell_type": "code",
   "execution_count": 8,
   "id": "9edd2e7b",
   "metadata": {},
   "outputs": [
    {
     "name": "stdout",
     "output_type": "stream",
     "text": [
      "Random Forest TEST F1 Score: 0.9517861603797152\n"
     ]
    }
   ],
   "source": [
    "print('Random Forest TEST F1 Score: {}'.format(f1_score(y_test,y_pred)))"
   ]
  }
 ],
 "metadata": {
  "kernelspec": {
   "display_name": "Python 3 (ipykernel)",
   "language": "python",
   "name": "python3"
  },
  "language_info": {
   "codemirror_mode": {
    "name": "ipython",
    "version": 3
   },
   "file_extension": ".py",
   "mimetype": "text/x-python",
   "name": "python",
   "nbconvert_exporter": "python",
   "pygments_lexer": "ipython3",
   "version": "3.9.13"
  }
 },
 "nbformat": 4,
 "nbformat_minor": 5
}
