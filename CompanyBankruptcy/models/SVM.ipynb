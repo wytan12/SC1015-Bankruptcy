{
 "cells": [
  {
   "cell_type": "markdown",
   "id": "65f72a3f",
   "metadata": {},
   "source": [
    "# SVM Model\n",
    "\n",
    "#### What is SVM?\n",
    "\n",
    "Support Vector Machines (SVM) is a popular supervised learning algorithm in machine learning that is commonly used for classification and regression analysis. SVM tries to find the best possible decision boundary that can separate the data into different classes. It does this by identifying the support vectors, which are the data points closest to the decision boundary. (Google)"
   ]
  },
  {
   "cell_type": "code",
   "execution_count": 3,
   "id": "82cb4980",
   "metadata": {},
   "outputs": [],
   "source": [
    "import pandas as pd\n",
    "import numpy as np\n",
    "import matplotlib.pyplot as plt\n",
    "from sklearn.svm import SVC\n",
    "from sklearn.model_selection import train_test_split\n",
    "from sklearn.metrics import mean_absolute_error\n",
    "from sklearn.metrics import mean_squared_error\n",
    "from sklearn.metrics import accuracy_score\n",
    "import seaborn as sns\n",
    "from sklearn.metrics import confusion_matrix\n",
    "from sklearn.metrics import f1_score"
   ]
  },
  {
   "cell_type": "code",
   "execution_count": 4,
   "id": "7269b7e1",
   "metadata": {},
   "outputs": [],
   "source": [
    "def get_TPR(actual, prediction):\n",
    "    TP = confusion_matrix(actual, prediction)[1][1]\n",
    "    FN = confusion_matrix(actual, prediction)[1][0]\n",
    "    TPR = (TP/(TP+FN))\n",
    "    \n",
    "    return TPR\n",
    "    \n",
    "def get_FPR(actual, prediction):\n",
    "    FP = confusion_matrix(actual, prediction)[0][1]\n",
    "    TN = confusion_matrix(actual, prediction)[0][0]\n",
    "    FPR = (FP/(FP+TN))\n",
    "    \n",
    "    return FPR"
   ]
  },
  {
   "cell_type": "code",
   "execution_count": 5,
   "id": "6c845874",
   "metadata": {},
   "outputs": [
    {
     "data": {
      "text/plain": [
       "Index(['Unnamed: 0', ' Debt ratio %', ' Borrowing dependency',\n",
       "       ' Liability to Equity', ' Net Income to Stockholder's Equity',\n",
       "       ' Persistent EPS in the Last Four Seasons',\n",
       "       ' ROA(C) before interest and depreciation before interest',\n",
       "       ' Net worth/Assets',\n",
       "       ' ROA(B) before interest and depreciation after tax',\n",
       "       ' ROA(A) before interest and % after tax',\n",
       "       ' Net Income to Total Assets', 'Bankrupt?'],\n",
       "      dtype='object')"
      ]
     },
     "execution_count": 5,
     "metadata": {},
     "output_type": "execute_result"
    }
   ],
   "source": [
    "data = pd.read_csv('SMData.csv')\n",
    "df = data\n",
    "data.columns"
   ]
  },
  {
   "cell_type": "code",
   "execution_count": 6,
   "id": "fbeb7de1",
   "metadata": {},
   "outputs": [],
   "source": [
    "y = pd.DataFrame(data['Bankrupt?'])\n",
    "x = df.drop(['Bankrupt?'], axis = 1)\n",
    "\n",
    "x_train, x_test, y_train, y_test = train_test_split(x,y,test_size=0.2,random_state=2023)"
   ]
  },
  {
   "cell_type": "code",
   "execution_count": 8,
   "id": "7ff21639",
   "metadata": {},
   "outputs": [
    {
     "name": "stderr",
     "output_type": "stream",
     "text": [
      "C:\\ProgramData\\Anaconda3\\lib\\site-packages\\sklearn\\utils\\validation.py:1143: DataConversionWarning: A column-vector y was passed when a 1d array was expected. Please change the shape of y to (n_samples, ), for example using ravel().\n",
      "  y = column_or_1d(y, warn=True)\n"
     ]
    }
   ],
   "source": [
    "SVCModel= SVC(random_state = 2023)\n",
    "SVCModel.fit(x_train, y_train)\n",
    "y_pred = SVCModel.predict(x_test)"
   ]
  },
  {
   "cell_type": "code",
   "execution_count": 10,
   "id": "beb74155",
   "metadata": {},
   "outputs": [
    {
     "name": "stdout",
     "output_type": "stream",
     "text": [
      "SVM Classifier Confusion Matrix\n",
      "Classification Accuracy:  0.9848484848484849\n",
      "TPR:  0.9764795144157815\n",
      "FPR:  0.00680786686838124\n"
     ]
    },
    {
     "data": {
      "image/png": "[encoded data removed]",
      "text/plain": [
       "<Figure size 640x480 with 2 Axes>"
      ]
     },
     "metadata": {},
     "output_type": "display_data"
    }
   ],
   "source": [
    "print(\"SVM Classifier Confusion Matrix\")\n",
    "sns.heatmap(confusion_matrix(y_test, y_pred), \n",
    "           annot=True, fmt='.0f', annot_kws={\"size\":18})\n",
    "\n",
    "print(\"Classification Accuracy: \", SVCModel.score(x_test, y_test))\n",
    "print('TPR: ', get_TPR(y_test, y_pred))\n",
    "print('FPR: ', get_FPR(y_test, y_pred))"
   ]
  },
  {
   "cell_type": "code",
   "execution_count": 11,
   "id": "9cf6cf90",
   "metadata": {},
   "outputs": [
    {
     "name": "stdout",
     "output_type": "stream",
     "text": [
      "SVM Test F1 Score: 0.9846977811782709\n"
     ]
    }
   ],
   "source": [
    "print('SVM Test F1 Score: {}'.format(f1_score(y_test,y_pred)))"
   ]
  }
 ],
 "metadata": {
  "kernelspec": {
   "display_name": "Python 3 (ipykernel)",
   "language": "python",
   "name": "python3"
  },
  "language_info": {
   "codemirror_mode": {
    "name": "ipython",
    "version": 3
   },
   "file_extension": ".py",
   "mimetype": "text/x-python",
   "name": "python",
   "nbconvert_exporter": "python",
   "pygments_lexer": "ipython3",
   "version": "3.9.13"
  }
 },
 "nbformat": 4,
 "nbformat_minor": 5
}
